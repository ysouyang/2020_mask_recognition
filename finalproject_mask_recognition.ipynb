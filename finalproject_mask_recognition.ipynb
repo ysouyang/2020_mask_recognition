{
 "cells": [
  {
   "cell_type": "markdown",
   "metadata": {},
   "source": [
    "## 主題: 判斷照片中的人是否有正確地配戴口罩\n",
    "* 組長: 統計三 歐陽宇珊\n",
    "* 組員: 統計三 李姿璇 胡馨尹 陳淳蓁\n",
    "* 分工\n",
    "    * 歐陽宇珊:\n",
    "    * 李姿璇:\n",
    "    * 胡馨尹:\n",
    "    * 陳淳蓁:"
   ]
  },
  {
   "cell_type": "markdown",
   "metadata": {},
   "source": [
    "### 動機: \n",
    "前陣子因處於新冠肺炎疫情高峰期，人心惶惶，因此政府規定民眾出入公共場所、搭乘大眾運輸工具需要配戴口罩，並派遣大量人力於各捷運站出入口人工檢查並提醒乘客入站是否配戴口罩。\n",
    "出門戴口罩現已為必備的防疫措施，然而，正確的配戴口罩才有防護效果。若是露出鼻子、口罩下擺沒有包覆到下巴，都會對防護效果大打折扣。因此，我們想用人工智慧來辨識一張人像照片是否有正確的佩戴口罩。若成功，此項技術可協助政府、學校等各機關，應用在課堂或大眾交通工具上，透過這組程式將監視器錄到的影像或拍攝的相片中沒有正確配戴口罩的人篩出。"
   ]
  },
  {
   "cell_type": "markdown",
   "metadata": {},
   "source": [
    "### 資料蒐集\n",
    "#### 網路爬蟲(以Firefox + 百度搜尋為例)\n",
    "1. 瀏覽器：Chrome、Firefox\n",
    "    * 選定想要使用的瀏覽器後，要先安裝驅動程式\n",
    "2. 搜尋引擎：Bing、Google、百度、搜狗\n",
    "    * 不同的搜尋引擎一次可以存取的圖片量、擋爬蟲的程度皆不同\n",
    "    * 在程式碼當中可以加入time.sleep()以避免瀏覽器認為你在攻擊它\n",
    "    * Google的反爬蟲機制最強\n",
    "3. 關鍵字：戴口罩、wearing mask、人像...等等"
   ]
  },
  {
   "cell_type": "code",
   "execution_count": null,
   "metadata": {},
   "outputs": [],
   "source": [
    "#讀取套件\n",
    "from selenium import webdriver\n",
    "import time\n",
    "import urllib\n",
    "import os"
   ]
  },
  {
   "cell_type": "code",
   "execution_count": null,
   "metadata": {},
   "outputs": [],
   "source": [
    "#存圖位置(要放圖片的資料夾路徑)\n",
    "local_path = r\"C:\\Users\\ena88\\Desktop\\MASK\""
   ]
  },
  {
   "cell_type": "code",
   "execution_count": null,
   "metadata": {},
   "outputs": [],
   "source": [
    "#瀏覽器驅動程式的路徑\n",
    "driverPath = r\"C:\\Program Files\\Mozilla Firefox\\geckodriver_win64\"\n",
    "#以該瀏覽器打開一個新的頁面\n",
    "driver = webdriver.Firefox(driverPath)"
   ]
  },
  {
   "cell_type": "code",
   "execution_count": null,
   "metadata": {},
   "outputs": [],
   "source": [
    "#前往百度圖片搜尋的網址\n",
    "driver.get(\"http://image.baidu.com\")"
   ]
  },
  {
   "cell_type": "code",
   "execution_count": null,
   "metadata": {},
   "outputs": [],
   "source": [
    "#暫停執行1秒\n",
    "time.sleep(1)"
   ]
  },
  {
   "cell_type": "code",
   "execution_count": null,
   "metadata": {},
   "outputs": [],
   "source": [
    "#找到搜尋引擎輸入文字的框\n",
    "search_input = driver.find_element_by_name(\"word\")\n",
    "#輸入wearing mask\n",
    "search_input.send_keys('wearing mask')"
   ]
  },
  {
   "cell_type": "code",
   "execution_count": null,
   "metadata": {},
   "outputs": [],
   "source": [
    "#暫停執行兩秒\n",
    "time.sleep(2)"
   ]
  },
  {
   "cell_type": "code",
   "execution_count": null,
   "metadata": {},
   "outputs": [],
   "source": [
    "#找到搜尋按鈕\n",
    "start_search_btn = driver.find_element_by_class_name(\"s_search\")\n",
    "#按下搜尋按鈕\n",
    "start_search_btn.click()"
   ]
  },
  {
   "cell_type": "code",
   "execution_count": null,
   "metadata": {},
   "outputs": [],
   "source": [
    "# 設置一個空的字典\n",
    "img_url_dic = {}"
   ]
  },
  {
   "cell_type": "markdown",
   "metadata": {},
   "source": [
    "設定xpath\n",
    "* 自己先手動以相同關鍵字搜尋，選一張圖片按下右鍵，按下檢查\n",
    "* 接著看其img class為何，可以多看幾張照片看其img class是否相同\n",
    "* 可能會有多種img class，設置xpath時可以都試"
   ]
  },
  {
   "cell_type": "code",
   "execution_count": null,
   "metadata": {},
   "outputs": [],
   "source": [
    "#設定xpath\n",
    "xpath = '//img[@class=\"main_img img-hover\"]'"
   ]
  },
  {
   "cell_type": "code",
   "execution_count": null,
   "metadata": {},
   "outputs": [],
   "source": [
    "pos = 0  \n",
    "#### 圖片編號\n",
    "m = 0  \n",
    "for i in range(100):\n",
    "    #每次下滾500\n",
    "    pos += i*500   \n",
    "    js = \"document.documentElement.scrollTop=%d\" % pos  \n",
    "    driver.execute_script(js)  \n",
    "    time.sleep(5)\n",
    "    \n",
    "    for element in driver.find_elements_by_xpath(xpath):\n",
    "        try:\n",
    "            #找圖片的url，每個搜尋引擎放url的代號有些不同\n",
    "            #可以在前面找xpath的時候一起看 在圖片xpath後面會有該圖片的url\n",
    "            #這邊存url的代號是src\n",
    "            img_url = element.get_attribute('src')\n",
    "            \n",
    "            #保存圖片到指定路徑\n",
    "            if img_url != None and not img_url in img_url_dic:\n",
    "                img_url_dic[img_url] = ''  \n",
    "                m += 1\n",
    "                #print(img_url)\n",
    "                ext = img_url.split('/')[-1]\n",
    "                #print(ext)\n",
    "                filename = str(m) + 'B' + '_' + ext +'.jpg'\n",
    "                print(filename)\n",
    "                \n",
    "                #保存圖片\n",
    "                urllib.request.urlretrieve(img_url,os.path.join(local_path ,filename))\n",
    "                \n",
    "        except OSError:\n",
    "            print('發生OSError!')\n",
    "            print(pos)\n",
    "            break;\n",
    "#### 關閉瀏覽器            \n",
    "driver.close()"
   ]
  },
  {
   "cell_type": "markdown",
   "metadata": {},
   "source": [
    "#### Fatkun Batch Download Image批次下載圖片\n",
    "1. 在Chrome線上應用程式商店下載 Fatkun Batch Download Image 到瀏覽器\n",
    "2. 點選此工具後，會出現兩個選項：「下載當前頁面」和「下載所有頁面」。前者只會下載當前分頁的所有圖片；另一個選項則會下載所有開啟分頁的圖片。若網站有下載的限制，勾選「解除當前頁面下載限制」即可順利下載。\n",
    "    - 內部有進階的設定，例如將下載的圖片自動轉擋成.jpg或.png\n",
    "3. 點擊下載後，就開啟此工具，此時頁面會出現要下載的圖片以及篩選條件。\n",
    "    - 篩選條件包括：圖片尺寸、關鍵字、頁面"
   ]
  },
  {
   "cell_type": "markdown",
   "metadata": {},
   "source": [
    "### 資料篩選\n",
    "* 人工篩選：我們將爬蟲取得的圖片以人工的方式篩選，將明顯不是人像的圖片刪除。"
   ]
  },
  {
   "cell_type": "markdown",
   "metadata": {},
   "source": [
    "### 資料處理\n",
    "1. 以PIL將圖片resize成(256*256)\n",
    "    * 以PIL套件處理\n",
    "2. 篩選出(256*256)，並且是RGB的圖片\n",
    "    * 讀入資料後，篩掉(256,256,1)、(256,256,4)的圖片\n",
    "    * 最後以4539張圖片進行模型的訓練與測試\n",
    "3. 資料標籤為0,1，打散資料\n",
    "    * 0代表沒戴口罩、1代表有戴口罩\n",
    "4. 資料整理流程圖(https://github.com/unique4761453/python_1082/blob/master/DataDiagram.jpg)"
   ]
  },
  {
   "cell_type": "markdown",
   "metadata": {},
   "source": [
    "#### 讀取圖片方法、影像處理套件的差異\n",
    "* Opencv\n",
    "    - 優點\n",
    "        1. 易於使用：Python 是一門易於學習的語言（尤其是與 C 對比），所以我們理應把其當作為第一門語言來學習程式設計。\n",
    "        2. 視覺化及除錯 ：現在 Python 環境下比 C 更容易去除錯程式碼。\n",
    "    - 缺點\n",
    "        1. 薄弱的文件 ：OpenCV（Python）的文件並不太的完善， 新手使用時往往會陷入如何去使用特定函式的問題當中。\n",
    "        2. 執行時較慢 ：比起 C ，Python中的程式一般會執行地更慢。\n",
    "        3. OpenCV 是使用 C/C 編寫的 ：作為一個開源庫，其好處之一就是能根據你自身需求進行修改。如果你想要修改 OpenCV，你就必須得修改 OpenCV 的 C/C 原始檔。\n",
    "    - 我們實際使用的經驗\n",
    "      * 我們在使用opencv時，運用了其中的靜態人臉辨識功能，但我們發現效果並不如預期，辨識出來的位置往往不是最主要的人臉，有時是背景的某一區塊、有時是旁邊路人甲乙的臉，因此我們不使用opencv來調整、剪裁我們的照片。\n",
    "* Matplotlib.Image\n",
    "    - 優點\n",
    "        1. 相較於其他視覺化套件，matplot算是最歷史悠久，有很多教學文章或範例可參考。 \n",
    "        2. 畫圖功能最齊全\n",
    "        3. Python中常用的讀取圖片套件之一\n",
    "    - 缺點\n",
    "        1. 依賴其他套件，像是Numpy\n",
    "        2. 只能讀取png檔\n",
    "* Python Image Library (PIL)\n",
    "        \n",
    "    * PIL是Python強大的圖像處理庫，功能包含：基本圖像操作、圖像儲存、顯示、格式轉換…等多種功能，目前已經停止開發；pillow開發活躍，且支持Python3.x，所以現在所使用的PIL基本上都是pillow模塊。\n",
    "    * 優點：只適用於Python，較可靠、穩定\n",
    "    * 缺點：其他程式難以使用"
   ]
  },
  {
   "cell_type": "markdown",
   "metadata": {},
   "source": [
    "* 三者比較\n",
    "\n",
    "    * 另外，Pillow可以使用的唯一數據類型是uint8。Matplotlib可以處理float32和uint8，但是除了PNG以外的任何格式的圖像都受限於uint8。大多數顯示器每個channel只能渲染8位色彩等級，因為這就是人眼所能看到的全部。\n",
    "    * 經過測試與比較，此次專案我們選用的是PIL方法來裁剪圖片，將不同大小的圖片都裁成256x256的大小，以利後續模型的資料輸入。\n"
   ]
  },
  {
   "cell_type": "markdown",
   "metadata": {},
   "source": [
    "#### 內差法 \n",
    "* NEAREST：最鄰近插值法。\n",
    "    1. 是一種速度快但精度低的圖像像素模擬方法。\n",
    "    2. 對二維圖像取待採樣點周圍4個相鄰像素點距離最近的1個鄰點的灰度值作為該點的灰度值，該方法用於包含未消除鋸齒邊緣的插圖，以保存硬邊緣並生成較小的文件。\n",
    "    3. 縮放圖片時，從輸入圖像中選取最近的像素作為輸出像素。它忽略了所有其他的像素，這樣做的結果是產生明顯可見的鋸齒。\n",
    "* BILINEAR：雙線性插值法。\n",
    "    1. 是一種通過平均周圍像素顏色來添加像素的方法，該方法可生成中等品質的圖像。\n",
    "    2. 輸出的圖像的每個像素都是在輸入圖像的2x2矩陣上進行線性插值的結果，由於它是從原圖四個像素中運算的，因此這種算法很大程度上消除了鋸齒現象，而且效果也比較好。\n",
    "* BICUBIC：雙立方插值法。\n",
    "    1. 計算精度很高，處理後圖像像質損失較小。\n",
    "    2. 不僅考慮到四個直接鄰點灰度值的影響，還考慮到各鄰點間灰度值變化率的影響，在輸入圖像的4x4矩陣上進行立方插值，利用了待採樣點周圍更大鄰域內像素的灰度值作三次插值。\n",
    "* ANTIALIAS：平滑插值法。\n",
    "    1. 是PIL1.1.3版本中新的插值法。\n",
    "    2. 對所有可以影響輸出像素的輸入像素進行高質量的重採樣插值，以計算輸出像素值。它通常也用於多變量內插，例如用於調整大小或旋轉一個數字圖像。\n",
    "    3. 相對於其他插值算法，它應用於的鄰域更廣。\n",
    "    4. Antialias比Bicubic的速度要快，但Bicubic的更清晰些。\n",
    "    5. 在當前的PIL版本中，只用於改變尺寸和縮略圖方法。 \n",
    "* BILIEAR和BICUBIC濾波器使用固定的輸入模板，用於固定比例的幾何變換和上採樣是最好的。\n"
   ]
  },
  {
   "cell_type": "markdown",
   "metadata": {},
   "source": [
    "#### 以PIL將圖片resize成(256*256)"
   ]
  },
  {
   "cell_type": "code",
   "execution_count": 1,
   "metadata": {},
   "outputs": [],
   "source": [
    "%matplotlib inline\n",
    "\n",
    "import os\n",
    "import os.path\n",
    "import glob\n",
    "from PIL import Image\n",
    "import matplotlib.pyplot as plt # plt 用於顯示圖片\n",
    "import matplotlib.image as mpimg # mpimg 用於讀取圖片\n",
    "import numpy as np\n",
    "from sklearn import model_selection"
   ]
  },
  {
   "cell_type": "code",
   "execution_count": null,
   "metadata": {},
   "outputs": [],
   "source": [
    "# 用雲端資料夾\n",
    "#from google.colab import drive\n",
    "#drive.mount('/content/gdrive')"
   ]
  },
  {
   "cell_type": "code",
   "execution_count": null,
   "metadata": {},
   "outputs": [],
   "source": [
    "#os.chdir(\"gdrive/My Drive/Colab Notebooks\")"
   ]
  },
  {
   "cell_type": "code",
   "execution_count": null,
   "metadata": {},
   "outputs": [],
   "source": [
    "# 以PIL進行resize\n",
    "def convertjpg(jpgfile,outdir,width=256,height=256):\n",
    "    img=Image.open(jpgfile)\n",
    "    try:\n",
    "        new_img=img.resize((width,height),Image.BILINEAR)   \n",
    "        new_img.save(os.path.join(outdir,os.path.basename(jpgfile)))\n",
    "    except Exception as e:\n",
    "        print(e)"
   ]
  },
  {
   "cell_type": "markdown",
   "metadata": {},
   "source": [
    "#### 篩選出長寬皆為256，並且是RGB的圖片"
   ]
  },
  {
   "cell_type": "code",
   "execution_count": null,
   "metadata": {},
   "outputs": [],
   "source": [
    "array_of_img = []\n",
    "array_of_img_2=[]\n",
    "array_of_img_3=[]\n",
    "array_of_img_4=[]"
   ]
  },
  {
   "cell_type": "code",
   "execution_count": null,
   "metadata": {},
   "outputs": [],
   "source": [
    "def read_directory(directory_name):\n",
    "#    global array_of_img\n",
    "    for filename in os.listdir(r\"./\"+directory_name):        #從程式碼所在的路徑尋找要讀入圖片的資料夾\n",
    "        img = mpimg.imread(directory_name + \"/\" + filename)  #讀入資料夾下的圖片\n",
    "        if img.shape==((256,256,3)):      ##如果是RGB三色就留下來，黑白的剔除\n",
    "            #print(len(array_of_img))      \n",
    "            array_of_img.append(img)      ##用list的方式append\n",
    "            #array_of_img_2.append(img)\n",
    "            #array_of_img_3.append(img)\n",
    "            #array_of_img_4.append(img)\n",
    "        else :\n",
    "            print(filename) "
   ]
  },
  {
   "cell_type": "code",
   "execution_count": null,
   "metadata": {},
   "outputs": [],
   "source": [
    "#讀入資料\n",
    "#read_directory(\"單人_trans\")\n",
    "#read_directory(\"多人_trans\")\n",
    "#read_directory(\"單人_trans(non)\")\n",
    "#read_directory(\"多人_trans(non)\")"
   ]
  },
  {
   "cell_type": "code",
   "execution_count": null,
   "metadata": {},
   "outputs": [],
   "source": [
    "#統一從list轉成ndarray\n",
    "array_of_img=np.array(array_of_img)     #單人_trans 有戴\n",
    "array_of_img_2=np.array(array_of_img_2) #多人_trans 有戴\n",
    "array_of_img_3=np.array(array_of_img_3) #單人_trans(non) 沒戴\n",
    "array_of_img_4=np.array(array_of_img_4) #多人_trans(non) 沒戴"
   ]
  },
  {
   "cell_type": "code",
   "execution_count": null,
   "metadata": {},
   "outputs": [],
   "source": [
    "#合併x資料集\n",
    "mask=np.append(array_of_img,array_of_img_2, axis=0)\n",
    "nonmask=np.append(array_of_img_3,array_of_img_4, axis=0)\n",
    "x=np.append(mask,nonmask, axis=0)"
   ]
  },
  {
   "cell_type": "markdown",
   "metadata": {},
   "source": [
    "#### 資料標籤為0,1，打散資料"
   ]
  },
  {
   "cell_type": "code",
   "execution_count": null,
   "metadata": {},
   "outputs": [],
   "source": [
    "#合併y資料集\n",
    "y_1 = np.ones(len(mask))\n",
    "y_0 = np.zeros(len(nonmask))\n",
    "y=np.append(y_1,y_0, axis=0)"
   ]
  },
  {
   "cell_type": "code",
   "execution_count": null,
   "metadata": {},
   "outputs": [],
   "source": [
    "indices =np.random.permutation(x.shape[0])    #隨機排列同樣長度的序號"
   ]
  },
  {
   "cell_type": "code",
   "execution_count": null,
   "metadata": {},
   "outputs": [],
   "source": [
    "#x = x[indices,:,:,:]        #獲取打亂後的訓練資料\n",
    "#y = y[indices]              #讓y隨著x的順序一起打亂"
   ]
  },
  {
   "cell_type": "code",
   "execution_count": null,
   "metadata": {},
   "outputs": [],
   "source": [
    "#儲存x,y資料集\n",
    "#np.save(file=\"x.npy\", arr=x)\n",
    "#np.save(file=\"y.npy\", arr=y)"
   ]
  },
  {
   "cell_type": "markdown",
   "metadata": {},
   "source": [
    "### 讀入整理過的資料並檢視"
   ]
  },
  {
   "cell_type": "code",
   "execution_count": 2,
   "metadata": {},
   "outputs": [],
   "source": [
    "x= np.load(file=\"x.npy\")"
   ]
  },
  {
   "cell_type": "code",
   "execution_count": 3,
   "metadata": {},
   "outputs": [],
   "source": [
    "y= np.load(file=\"y.npy\")"
   ]
  },
  {
   "cell_type": "code",
   "execution_count": 4,
   "metadata": {},
   "outputs": [],
   "source": [
    "x_train, x_test_image, y_train, y_test_label = model_selection.train_test_split(x, y, test_size=0.2, random_state=0)"
   ]
  },
  {
   "cell_type": "code",
   "execution_count": 5,
   "metadata": {},
   "outputs": [
    {
     "data": {
      "text/plain": [
       "(3631, 256, 256, 3)"
      ]
     },
     "execution_count": 5,
     "metadata": {},
     "output_type": "execute_result"
    }
   ],
   "source": [
    "x_train.shape"
   ]
  },
  {
   "cell_type": "code",
   "execution_count": 6,
   "metadata": {
    "scrolled": true
   },
   "outputs": [],
   "source": [
    "#x_train[500]"
   ]
  },
  {
   "cell_type": "code",
   "execution_count": 7,
   "metadata": {},
   "outputs": [
    {
     "data": {
      "text/plain": [
       "(908, 256, 256, 3)"
      ]
     },
     "execution_count": 7,
     "metadata": {},
     "output_type": "execute_result"
    }
   ],
   "source": [
    "x_test_image.shape"
   ]
  },
  {
   "cell_type": "code",
   "execution_count": 8,
   "metadata": {},
   "outputs": [
    {
     "data": {
      "text/plain": [
       "(3631,)"
      ]
     },
     "execution_count": 8,
     "metadata": {},
     "output_type": "execute_result"
    }
   ],
   "source": [
    "y_train.shape"
   ]
  },
  {
   "cell_type": "code",
   "execution_count": 14,
   "metadata": {
    "scrolled": true
   },
   "outputs": [],
   "source": [
    "# Import some useful packages\n",
    "import matplotlib.pyplot as plt\n",
    "import numpy as np\n",
    "\n",
    "# Layers for FNN\n",
    "from keras.models import Sequential\n",
    "from keras.layers import Dense\n",
    "from keras.layers import Flatten\n",
    "\n",
    "# Layers for CNN\n",
    "from keras.layers import Conv2D,Conv3D,AveragePooling2D, MaxPooling2D, AveragePooling3D,MaxPooling3D\n",
    "\n",
    "from keras.optimizers import SGD, Adam,Adagrad\n",
    "\n",
    "# For data preprocessing\n",
    "from keras import datasets\n",
    "from keras.utils import to_categorical"
   ]
  },
  {
   "cell_type": "code",
   "execution_count": 10,
   "metadata": {},
   "outputs": [],
   "source": [
    "# Normalize the range of featurs\n",
    "x_train = x_train /255\n",
    "x_test = x_test_image / 255"
   ]
  },
  {
   "cell_type": "code",
   "execution_count": 11,
   "metadata": {},
   "outputs": [],
   "source": [
    "# One-hot encoding\n",
    "y_train = to_categorical(y_train, 2)\n",
    "y_test = to_categorical(y_test_label, 2)"
   ]
  },
  {
   "cell_type": "markdown",
   "metadata": {},
   "source": [
    "### 模型架構\n",
    "*模型架構圖(https://github.com/unique4761453/python_1082/blob/master/FunctionalDiagram.jpg)"
   ]
  },
  {
   "cell_type": "markdown",
   "metadata": {},
   "source": [
    "#### SPP-net空間金字塔池化(https://github.com/unique4761453/python_1082)\n",
    "\n",
    "#### Max-Pooling vs. Average-Pooling (https://github.com/unique4761453/python_1082/blob/master/MaxAverage.jpg)\n",
    "池化操作時在卷積神經網路中經常採用過的一個基本操作，一般在卷積層後面都會接一個池化操作。\n",
    "\n",
    "|  Max-Pooling   | Average-Pooling  |\n",
    "|:----|:----|\n",
    "| 對領域內取最大特徵點  | 對領域內特徵點取平均 |\n",
    "| 減小卷積層引數誤差造成估計均值的偏移  | 減小鄰域大小受限造成的估計值方差 |\n",
    "|  保留更多紋理資訊   | 保留更多影象的背景資訊  |\n",
    "|  效果較好，弱化強特徵值，但可能有過度擬合的情形發生。  | 雖然會弱化強特徵值，但在減少引數維度的貢獻上較大，並體現在資訊的完整傳遞。  |\n",
    " \n",
    "兩種方法各有優劣，端看專案的需求。\n",
    "\n",
    "#### Loss Function 損失函數\n",
    "* MSE (Mean Squared Error)\n",
    "    * 我們之前講的最小平方法(Least Square)的目標函數 – 預測值與實際值的差距之平均值。\n",
    "    * MSE雖然好用，但仍然有缺點，Outlier在MSE會指數性的被放大。\n",
    "* MAE (Mean-Absolute Error)\n",
    "    * MSE對Outlier特別敏感，由於MAE使用的是L1距離，相較於MSE，對Outlier更為強大，然而MAE為人詬病的缺點就是收斂速度慢。\n",
    "* Cross Entropy (Categorical Crossentropy)\n",
    "    * 當預測值與實際值愈相近，損失函數就愈小，反之差距很大，就會更影響損失函數的值。在梯度下時，Cross Entropy 計算速度較快，Binary Crossentropy是其中一種變形。"
   ]
  },
  {
   "cell_type": "code",
   "execution_count": 15,
   "metadata": {},
   "outputs": [],
   "source": [
    "from keras.models import Model\n",
    "from keras.layers import Input\n",
    "from keras.layers import concatenate, add,Dropout"
   ]
  },
  {
   "cell_type": "code",
   "execution_count": 2,
   "metadata": {},
   "outputs": [
    {
     "name": "stderr",
     "output_type": "stream",
     "text": [
      "Using TensorFlow backend.\n"
     ]
    }
   ],
   "source": [
    "from keras.engine.topology import Layer\n",
    "import keras.backend as K\n",
    "\n",
    "##SPP空間金字塔池化\n",
    "class SpatialPyramidPooling(Layer):\n",
    "    \"\"\"Spatial pyramid pooling layer for 2D inputs.\n",
    "    See Spatial Pyramid Pooling in Deep Convolutional Networks for Visual Recognition,\n",
    "    K. He, X. Zhang, S. Ren, J. Sun\n",
    "    # Arguments\n",
    "        pool_list: list of int\n",
    "            List of pooling regions to use. The length of the list is the number of pooling regions,\n",
    "            each int in the list is the number of regions in that pool. For example [1,2,4] would be 3\n",
    "            regions with 1, 2x2 and 4x4 max pools, so 21 outputs per feature map\n",
    "    # Input shape\n",
    "        4D tensor with shape:\n",
    "        `(samples, channels, rows, cols)` if dim_ordering='th'\n",
    "        or 4D tensor with shape:\n",
    "        `(samples, rows, cols, channels)` if dim_ordering='tf'.\n",
    "    # Output shape\n",
    "        2D tensor with shape:\n",
    "        `(samples, channels * sum([i * i for i in pool_list])`\n",
    "    \"\"\"\n",
    "\n",
    "    def __init__(self, pool_list, **kwargs):\n",
    "\n",
    "        self.dim_ordering = K.image_data_format()\n",
    "        assert self.dim_ordering in {'channels_last', 'channels_first'}, 'dim_ordering must be in {tf, th}'\n",
    "\n",
    "        self.pool_list = pool_list\n",
    "\n",
    "        self.num_outputs_per_channel = sum([i * i for i in pool_list])\n",
    "\n",
    "        super(SpatialPyramidPooling, self).__init__(**kwargs)\n",
    "\n",
    "    def build(self, input_shape):\n",
    "        if self.dim_ordering == 'channels_first':\n",
    "            self.nb_channels = input_shape[1]\n",
    "        elif self.dim_ordering == 'channels_last':\n",
    "            self.nb_channels = input_shape[3]\n",
    "\n",
    "    def compute_output_shape(self, input_shape):\n",
    "        return (input_shape[0], self.nb_channels * self.num_outputs_per_channel)\n",
    "\n",
    "    def get_config(self):\n",
    "        config = {'pool_list': self.pool_list}\n",
    "        base_config = super(SpatialPyramidPooling, self).get_config()\n",
    "        return dict(list(base_config.items()) + list(config.items()))\n",
    "\n",
    "    def call(self, x, mask=None):\n",
    "\n",
    "        input_shape = K.shape(x)\n",
    "\n",
    "        if self.dim_ordering == 'channels_first':\n",
    "            num_rows = input_shape[2]\n",
    "            num_cols = input_shape[3]\n",
    "        elif self.dim_ordering == 'channels_last':\n",
    "            num_rows = input_shape[1]\n",
    "            num_cols = input_shape[2]\n",
    "\n",
    "        row_length = [K.cast(num_rows, 'float32') / i for i in self.pool_list]\n",
    "        col_length = [K.cast(num_cols, 'float32') / i for i in self.pool_list]\n",
    "\n",
    "        outputs = []\n",
    "\n",
    "        if self.dim_ordering == 'channels_first':\n",
    "            for pool_num, num_pool_regions in enumerate(self.pool_list):\n",
    "                for jy in range(num_pool_regions):\n",
    "                    for ix in range(num_pool_regions):\n",
    "                        x1 = ix * col_length[pool_num]\n",
    "                        x2 = ix * col_length[pool_num] + col_length[pool_num]\n",
    "                        y1 = jy * row_length[pool_num]\n",
    "                        y2 = jy * row_length[pool_num] + row_length[pool_num]\n",
    "\n",
    "                        x1 = K.cast(K.round(x1), 'int32')\n",
    "                        x2 = K.cast(K.round(x2), 'int32')\n",
    "                        y1 = K.cast(K.round(y1), 'int32')\n",
    "                        y2 = K.cast(K.round(y2), 'int32')\n",
    "                        new_shape = [input_shape[0], input_shape[1],\n",
    "                                     y2 - y1, x2 - x1]\n",
    "                        x_crop = x[:, :, y1:y2, x1:x2]\n",
    "                        xm = K.reshape(x_crop, new_shape)\n",
    "                        pooled_val = K.max(xm, axis=(2, 3))\n",
    "                        outputs.append(pooled_val)\n",
    "\n",
    "        elif self.dim_ordering == 'channels_last':\n",
    "            for pool_num, num_pool_regions in enumerate(self.pool_list):\n",
    "                for jy in range(num_pool_regions):\n",
    "                    for ix in range(num_pool_regions):\n",
    "                        x1 = ix * col_length[pool_num]\n",
    "                        x2 = ix * col_length[pool_num] + col_length[pool_num]\n",
    "                        y1 = jy * row_length[pool_num]\n",
    "                        y2 = jy * row_length[pool_num] + row_length[pool_num]\n",
    "\n",
    "                        x1 = K.cast(K.round(x1), 'int32')\n",
    "                        x2 = K.cast(K.round(x2), 'int32')\n",
    "                        y1 = K.cast(K.round(y1), 'int32')\n",
    "                        y2 = K.cast(K.round(y2), 'int32')\n",
    "\n",
    "                        new_shape = [input_shape[0], y2 - y1,\n",
    "                                     x2 - x1, input_shape[3]]\n",
    "\n",
    "                        x_crop = x[:, y1:y2, x1:x2, :]\n",
    "                        xm = K.reshape(x_crop, new_shape)\n",
    "                        pooled_val = K.max(xm, axis=(1, 2))\n",
    "                        outputs.append(pooled_val)\n",
    "\n",
    "        if self.dim_ordering == 'channels_first':\n",
    "            outputs = K.concatenate(outputs)\n",
    "        elif self.dim_ordering == 'channels_last':\n",
    "            #outputs = K.concatenate(outputs,axis = 1)\n",
    "            outputs = K.concatenate(outputs)\n",
    "            #outputs = K.reshape(outputs,(len(self.pool_list),self.num_outputs_per_channel,input_shape[0],input_shape[1]))\n",
    "            #outputs = K.permute_dimensions(outputs,(3,1,0,2))\n",
    "            #outputs = K.reshape(outputs,(input_shape[0], self.num_outputs_per_channel * self.nb_channels))\n",
    "\n",
    "        return outputs"
   ]
  },
  {
   "cell_type": "code",
   "execution_count": 16,
   "metadata": {},
   "outputs": [],
   "source": [
    "f_1 = Conv2D(32,(3,3),padding='same',activation= 'relu')\n",
    "f_2_1 = MaxPooling2D(pool_size=(2,2),padding='same')\n",
    "f_2_1_1 = Dropout(0.2)\n",
    "f_3 = Conv2D(64,(3,3),padding='same',activation= 'relu')\n",
    "f_4_1 = MaxPooling2D(pool_size=(2, 2),padding='same', data_format=None)\n",
    "f_5 = Conv2D(128,(3,3),padding='same',activation= 'relu')\n",
    "\n",
    "\n",
    "f_2_2 = AveragePooling2D(pool_size=(2,2),padding='same')\n",
    "f_4_2 = AveragePooling2D(pool_size=(2, 2 ),padding='same', data_format=None)\n",
    "\n",
    "f_6 = SpatialPyramidPooling([1, 2, 4])\n",
    "#f_7 = Flatten()\n",
    "f_8 = Dense(2, activation='softmax')"
   ]
  },
  {
   "cell_type": "code",
   "execution_count": 17,
   "metadata": {},
   "outputs": [],
   "source": [
    "x = Input(shape=(256,256,3))"
   ]
  },
  {
   "cell_type": "code",
   "execution_count": 18,
   "metadata": {},
   "outputs": [
    {
     "name": "stdout",
     "output_type": "stream",
     "text": [
      "Tensor(\"input_1:0\", shape=(None, 256, 256, 3), dtype=float32)\n"
     ]
    }
   ],
   "source": [
    "print(x)"
   ]
  },
  {
   "cell_type": "code",
   "execution_count": 25,
   "metadata": {},
   "outputs": [],
   "source": [
    "h_1 = f_1(x)\n",
    "h_2_1 = f_2_1(h_1)\n",
    "h_2_1_1 = f_2_1_1(h_2_1)\n",
    "\n",
    "h_3_1 = f_3(h_2_1_1)\n",
    "h_4_1 = f_4_1(h_3_1)\n",
    "h_5_1 = f_5(h_4_1)\n",
    "\n",
    "h_2_2 = f_2_2(h_1)\n",
    "h_2_2_2 = f_2_1_1(h_2_2)\n",
    "h_3_2 = f_3(h_2_2_2)\n",
    "h_4_2 = f_4_2(h_3_2)\n",
    "h_5_2 = f_5(h_4_2)\n",
    "\n",
    "h_6 = concatenate([h_5_1, h_5_2])\n",
    "h_7 = f_6(h_6)\n",
    "y= f_8(h_7)"
   ]
  },
  {
   "cell_type": "code",
   "execution_count": 26,
   "metadata": {},
   "outputs": [
    {
     "name": "stdout",
     "output_type": "stream",
     "text": [
      "Model: \"model_3\"\n",
      "__________________________________________________________________________________________________\n",
      "Layer (type)                    Output Shape         Param #     Connected to                     \n",
      "==================================================================================================\n",
      "input_1 (InputLayer)            (None, 256, 256, 3)  0                                            \n",
      "__________________________________________________________________________________________________\n",
      "conv2d_2 (Conv2D)               (None, 256, 256, 32) 896         input_1[0][0]                    \n",
      "__________________________________________________________________________________________________\n",
      "max_pooling2d_2 (MaxPooling2D)  (None, 128, 128, 32) 0           conv2d_2[1][0]                   \n",
      "__________________________________________________________________________________________________\n",
      "average_pooling2d_1 (AveragePoo (None, 128, 128, 32) 0           conv2d_2[1][0]                   \n",
      "__________________________________________________________________________________________________\n",
      "dropout_1 (Dropout)             (None, 128, 128, 32) 0           max_pooling2d_2[1][0]            \n",
      "                                                                 average_pooling2d_1[1][0]        \n",
      "__________________________________________________________________________________________________\n",
      "conv2d_3 (Conv2D)               (None, 128, 128, 64) 18496       dropout_1[2][0]                  \n",
      "                                                                 dropout_1[3][0]                  \n",
      "__________________________________________________________________________________________________\n",
      "max_pooling2d_3 (MaxPooling2D)  (None, 64, 64, 64)   0           conv2d_3[2][0]                   \n",
      "__________________________________________________________________________________________________\n",
      "average_pooling2d_2 (AveragePoo (None, 64, 64, 64)   0           conv2d_3[3][0]                   \n",
      "__________________________________________________________________________________________________\n",
      "conv2d_4 (Conv2D)               (None, 64, 64, 128)  73856       max_pooling2d_3[1][0]            \n",
      "                                                                 average_pooling2d_2[1][0]        \n",
      "__________________________________________________________________________________________________\n",
      "concatenate_2 (Concatenate)     (None, 64, 64, 256)  0           conv2d_4[2][0]                   \n",
      "                                                                 conv2d_4[3][0]                   \n",
      "__________________________________________________________________________________________________\n",
      "spatial_pyramid_pooling_1 (Spat (None, 5376)         0           concatenate_2[0][0]              \n",
      "__________________________________________________________________________________________________\n",
      "dense_1 (Dense)                 (None, 2)            10754       spatial_pyramid_pooling_1[1][0]  \n",
      "==================================================================================================\n",
      "Total params: 104,002\n",
      "Trainable params: 104,002\n",
      "Non-trainable params: 0\n",
      "__________________________________________________________________________________________________\n"
     ]
    }
   ],
   "source": [
    "model = Model(x, y)\n",
    "model.summary()"
   ]
  },
  {
   "cell_type": "code",
   "execution_count": 27,
   "metadata": {},
   "outputs": [],
   "source": [
    "#model.compile(loss='mse', optimizer=Adam(), metrics=['accuracy'])"
   ]
  },
  {
   "cell_type": "code",
   "execution_count": 28,
   "metadata": {},
   "outputs": [],
   "source": [
    "model.compile(loss= \"binary_crossentropy\",optimizer=\"Adam\",metrics=[\"accuracy\"])"
   ]
  },
  {
   "cell_type": "markdown",
   "metadata": {},
   "source": [
    "### 開始訓練"
   ]
  },
  {
   "cell_type": "code",
   "execution_count": 29,
   "metadata": {},
   "outputs": [
    {
     "name": "stdout",
     "output_type": "stream",
     "text": [
      "Train on 3631 samples, validate on 908 samples\n",
      "Epoch 1/12\n",
      "3631/3631 [==============================] - 1127s 311ms/step - loss: 0.6639 - accuracy: 0.6012 - val_loss: 0.6431 - val_accuracy: 0.6366\n",
      "Epoch 2/12\n",
      "3631/3631 [==============================] - 1119s 308ms/step - loss: 0.6201 - accuracy: 0.6552 - val_loss: 0.6162 - val_accuracy: 0.6707\n",
      "Epoch 3/12\n",
      "3631/3631 [==============================] - 1118s 308ms/step - loss: 0.5760 - accuracy: 0.6888 - val_loss: 0.5612 - val_accuracy: 0.7037\n",
      "Epoch 4/12\n",
      "3631/3631 [==============================] - 1119s 308ms/step - loss: 0.5507 - accuracy: 0.7246 - val_loss: 0.5434 - val_accuracy: 0.7137\n",
      "Epoch 5/12\n",
      "3631/3631 [==============================] - 1097s 302ms/step - loss: 0.5121 - accuracy: 0.7475 - val_loss: 0.5450 - val_accuracy: 0.7070\n",
      "Epoch 6/12\n",
      "3631/3631 [==============================] - 1074s 296ms/step - loss: 0.4813 - accuracy: 0.7648 - val_loss: 0.5173 - val_accuracy: 0.7335\n",
      "Epoch 7/12\n",
      "3631/3631 [==============================] - 1128s 311ms/step - loss: 0.4598 - accuracy: 0.7849 - val_loss: 0.5139 - val_accuracy: 0.7654\n",
      "Epoch 8/12\n",
      "3631/3631 [==============================] - 1158s 319ms/step - loss: 0.4158 - accuracy: 0.8078 - val_loss: 0.5554 - val_accuracy: 0.7478\n",
      "Epoch 9/12\n",
      "3631/3631 [==============================] - 1127s 310ms/step - loss: 0.4148 - accuracy: 0.8138 - val_loss: 0.4833 - val_accuracy: 0.7610\n",
      "Epoch 10/12\n",
      "3631/3631 [==============================] - 1139s 314ms/step - loss: 0.3800 - accuracy: 0.8339 - val_loss: 0.5110 - val_accuracy: 0.7709\n",
      "Epoch 11/12\n",
      "3631/3631 [==============================] - 1164s 321ms/step - loss: 0.3662 - accuracy: 0.8397 - val_loss: 0.5296 - val_accuracy: 0.7533\n",
      "Epoch 12/12\n",
      "3631/3631 [==============================] - 1119s 308ms/step - loss: 0.3269 - accuracy: 0.8648 - val_loss: 0.4604 - val_accuracy: 0.8029\n"
     ]
    },
    {
     "data": {
      "text/plain": [
       "<keras.callbacks.callbacks.History at 0x1d355e6de80>"
      ]
     },
     "execution_count": 29,
     "metadata": {},
     "output_type": "execute_result"
    }
   ],
   "source": [
    "model.fit(x_train,y_train,batch_size=64,epochs=12,validation_data=(x_test,y_test))"
   ]
  },
  {
   "cell_type": "code",
   "execution_count": 30,
   "metadata": {},
   "outputs": [],
   "source": [
    "model.save(\"myCNNFunctionalAPImodelSPP_3.h5\")"
   ]
  },
  {
   "cell_type": "markdown",
   "metadata": {},
   "source": [
    "### 檢視測試集分類成果"
   ]
  },
  {
   "cell_type": "code",
   "execution_count": 3,
   "metadata": {},
   "outputs": [],
   "source": [
    "from keras.models import load_model"
   ]
  },
  {
   "cell_type": "code",
   "execution_count": 4,
   "metadata": {},
   "outputs": [],
   "source": [
    "# 從 HDF5 檔案中載入模型\n",
    "model = load_model('myCNNFunctionalAPImodelSPP_3.h5', custom_objects={'SpatialPyramidPooling': SpatialPyramidPooling})"
   ]
  },
  {
   "cell_type": "code",
   "execution_count": 15,
   "metadata": {},
   "outputs": [
    {
     "name": "stdout",
     "output_type": "stream",
     "text": [
      "Test loss: 0.46043666842750514\n",
      "Test accuracy: 0.8028634190559387\n"
     ]
    }
   ],
   "source": [
    "# 驗證模型\n",
    "score = model.evaluate(x_test, y_test, verbose=0)\n",
    "# 輸出結果\n",
    "print('Test loss:', score[0])\n",
    "print('Test accuracy:', score[1])"
   ]
  },
  {
   "cell_type": "code",
   "execution_count": 16,
   "metadata": {},
   "outputs": [
    {
     "data": {
      "text/html": [
       "<div>\n",
       "<style scoped>\n",
       "    .dataframe tbody tr th:only-of-type {\n",
       "        vertical-align: middle;\n",
       "    }\n",
       "\n",
       "    .dataframe tbody tr th {\n",
       "        vertical-align: top;\n",
       "    }\n",
       "\n",
       "    .dataframe thead th {\n",
       "        text-align: right;\n",
       "    }\n",
       "</style>\n",
       "<table border=\"1\" class=\"dataframe\">\n",
       "  <thead>\n",
       "    <tr style=\"text-align: right;\">\n",
       "      <th>prediction</th>\n",
       "      <th>0</th>\n",
       "      <th>1</th>\n",
       "    </tr>\n",
       "    <tr>\n",
       "      <th>label</th>\n",
       "      <th></th>\n",
       "      <th></th>\n",
       "    </tr>\n",
       "  </thead>\n",
       "  <tbody>\n",
       "    <tr>\n",
       "      <th>0.0</th>\n",
       "      <td>444</td>\n",
       "      <td>78</td>\n",
       "    </tr>\n",
       "    <tr>\n",
       "      <th>1.0</th>\n",
       "      <td>101</td>\n",
       "      <td>285</td>\n",
       "    </tr>\n",
       "  </tbody>\n",
       "</table>\n",
       "</div>"
      ],
      "text/plain": [
       "prediction    0    1\n",
       "label               \n",
       "0.0         444   78\n",
       "1.0         101  285"
      ]
     },
     "execution_count": 16,
     "metadata": {},
     "output_type": "execute_result"
    }
   ],
   "source": [
    "#建立混淆矩陣\n",
    "#0為沒有戴口罩，1是有戴口罩\n",
    "import pandas as pd \n",
    "predictions = model.predict(x_test)\n",
    "predictions = np.argmax(predictions,axis=1)\n",
    "pd.crosstab(y_test_label, predictions, rownames=['label'], colnames=['prediction'])"
   ]
  },
  {
   "cell_type": "code",
   "execution_count": 17,
   "metadata": {},
   "outputs": [],
   "source": [
    "index=[]\n",
    "i=0"
   ]
  },
  {
   "cell_type": "code",
   "execution_count": 18,
   "metadata": {},
   "outputs": [],
   "source": [
    "##挑選出實際沒有戴口罩但是預測有戴口罩，和實際有戴口罩但是預測沒有戴口罩的照片\n",
    "for i in range(len(y_test_label)):\n",
    "    if((y_test_label[i]==0)&(predictions[i]==1)):\n",
    "        index.append(i)\n",
    "    elif((y_test_label[i]==1)&(predictions[i]==0)):\n",
    "        index.append(i)\n",
    "    i+=1"
   ]
  },
  {
   "cell_type": "code",
   "execution_count": 19,
   "metadata": {},
   "outputs": [
    {
     "data": {
      "text/plain": [
       "(908, 256, 256, 3)"
      ]
     },
     "execution_count": 19,
     "metadata": {},
     "output_type": "execute_result"
    }
   ],
   "source": [
    "x_test_image.shape"
   ]
  },
  {
   "cell_type": "code",
   "execution_count": 20,
   "metadata": {},
   "outputs": [
    {
     "data": {
      "text/plain": [
       "(179, 256, 256, 3)"
      ]
     },
     "execution_count": 20,
     "metadata": {},
     "output_type": "execute_result"
    }
   ],
   "source": [
    "x_test_image[index].shape"
   ]
  },
  {
   "cell_type": "code",
   "execution_count": 21,
   "metadata": {},
   "outputs": [],
   "source": [
    "def my_predict(n):\n",
    "    predictions = model.predict(x_test[index])\n",
    "    predictions=np.argmax(predictions,axis=1)\n",
    "    print(\"CNN預測是\",predictions[n])\n",
    "    X= x_test_image[index][n]\n",
    "    #X= X[n]\n",
    "    plt.imshow(X)"
   ]
  },
  {
   "cell_type": "code",
   "execution_count": 22,
   "metadata": {},
   "outputs": [
    {
     "name": "stdout",
     "output_type": "stream",
     "text": [
      "CNN預測是 1\n"
     ]
    },
    {
     "data": {
      "image/png": "[encoded data removed]",
      "text/plain": [
       "<Figure size 432x288 with 1 Axes>"
      ]
     },
     "metadata": {
      "needs_background": "light"
     },
     "output_type": "display_data"
    }
   ],
   "source": [
    "my_predict(2)"
   ]
  },
  {
   "cell_type": "code",
   "execution_count": 23,
   "metadata": {},
   "outputs": [],
   "source": [
    "from ipywidgets import interact_manual"
   ]
  },
  {
   "cell_type": "code",
   "execution_count": 24,
   "metadata": {},
   "outputs": [
    {
     "data": {
      "application/vnd.jupyter.widget-view+json": {
       "model_id": "edd33f8d03cb46e08d7dc7ba88d14bea",
       "version_major": 2,
       "version_minor": 0
      },
      "text/plain": [
       "interactive(children=(IntSlider(value=89, description='n', max=178), Button(description='Run Interact', style=…"
      ]
     },
     "metadata": {},
     "output_type": "display_data"
    },
    {
     "data": {
      "text/plain": [
       "<function __main__.my_predict(n)>"
      ]
     },
     "execution_count": 24,
     "metadata": {},
     "output_type": "execute_result"
    }
   ],
   "source": [
    "interact_manual(my_predict,n=(0,178))"
   ]
  },
  {
   "cell_type": "markdown",
   "metadata": {},
   "source": [
    "### 應用發想\n",
    "1. 使用者介面概念\n",
    "    * 我們發想此成果未來可以應用的方面，分為初步和進階。\n",
    "    * 初步: 架設一台電腦開啟攝影機，讓行經乘客到鏡頭前拍照，匯入程式中辨認是否有正確配戴口罩\n",
    "    * 進階: 搭配入口攝像機，定時(每1秒)截圖側錄影像，送入程式辨認來往人潮是否有正確配戴口罩\n",
    "2. 未來可發展應用層面:\n",
    "    * 【協助紅外線熱感應管制+人臉辨識】\n",
    "    * 現今所知已有團隊(高雄大學、亞洲大學)研發出結合【辨別是否有配戴口罩】、【紅外線熱感應】的系統，除了顯示量測體溫外，更能把關是否有正確配戴口罩。雖然準確率與其他技術層面尚有可提升之處，但確實是未來可發展的應用層面。且若將技術延伸至可辨別動態畫面的人像，則會大大提升現有運行的體溫管控流程、節省人力物力資源，並減少人流堵塞與人群聚集的風險。\n",
    "    * 若在未來能加入【人臉辨識】技術，則除了疫情管控外還能同時透過人臉辨識協助上下班打卡，應用在醫療院所或無塵室等平日須配戴口罩的工作場所，避免拉下口罩人臉辨識成防疫漏洞。"
   ]
  },
  {
   "cell_type": "markdown",
   "metadata": {},
   "source": [
    "#### 實際操作\n",
    "* 使用CV2套件控制電腦攝像頭拍照，並將圖片處理過後輸入模型進行辨識。"
   ]
  },
  {
   "cell_type": "code",
   "execution_count": 37,
   "metadata": {},
   "outputs": [],
   "source": [
    "import cv2 #載入套件"
   ]
  },
  {
   "cell_type": "code",
   "execution_count": 38,
   "metadata": {},
   "outputs": [],
   "source": [
    "var = cv2.VideoCapture(0) #設定攝像頭"
   ]
  },
  {
   "cell_type": "code",
   "execution_count": 39,
   "metadata": {},
   "outputs": [],
   "source": [
    "cv2.namedWindow(\"frame\") #開啟攝像頭視窗"
   ]
  },
  {
   "cell_type": "code",
   "execution_count": 40,
   "metadata": {},
   "outputs": [],
   "source": [
    "while(var.isOpened()):\n",
    "    ret, img = var.read()\n",
    "    if ret == True:\n",
    "        cv2.imshow(\"frame\",img)\n",
    "        k = cv2.waitKey(100)\n",
    "        if k == ord(\"z\") or k == ord(\"Z\"):  ##執行這個程式碼的時候你可以看到拍照畫面 然後按z可以照相\n",
    "            cv2.imwrite(r\"C:\\Users\\uniqu\\1082final_project\\mask_train_test\\catch.jpg\",img) #存照片的地方及照片擋名\n",
    "            break"
   ]
  },
  {
   "cell_type": "code",
   "execution_count": 41,
   "metadata": {},
   "outputs": [],
   "source": [
    "var.release() #儲存照片"
   ]
  },
  {
   "cell_type": "code",
   "execution_count": 42,
   "metadata": {},
   "outputs": [],
   "source": [
    "cv2.destroyWindow(\"frame\") #關閉視窗"
   ]
  },
  {
   "cell_type": "code",
   "execution_count": 43,
   "metadata": {},
   "outputs": [
    {
     "data": {
      "text/plain": [
       "<matplotlib.image.AxesImage at 0x26900402518>"
      ]
     },
     "execution_count": 43,
     "metadata": {},
     "output_type": "execute_result"
    },
    {
     "data": {
      "image/png": "[encoded data removed]",
      "text/plain": [
       "<Figure size 432x288 with 1 Axes>"
      ]
     },
     "metadata": {
      "needs_background": "light"
     },
     "output_type": "display_data"
    }
   ],
   "source": [
    "img=Image.open(r\"C:\\Users\\uniqu\\1082final_project\\mask_train_test\\catch.jpg\")\n",
    "img=img.resize((256,256),Image.BILINEAR)\n",
    "plt.imshow(img)"
   ]
  },
  {
   "cell_type": "code",
   "execution_count": 44,
   "metadata": {},
   "outputs": [],
   "source": [
    "img = np.array(img)\n",
    "img = img.reshape((1,256,256,3))\n",
    "img = img /255"
   ]
  },
  {
   "cell_type": "code",
   "execution_count": 45,
   "metadata": {},
   "outputs": [],
   "source": [
    "y_0 = np.zeros(1)\n",
    "y_1 = np.ones(1)\n",
    "y_0= to_categorical(y_0,2)\n",
    "y_1= to_categorical(y_1,2)"
   ]
  },
  {
   "cell_type": "code",
   "execution_count": 46,
   "metadata": {},
   "outputs": [
    {
     "name": "stdout",
     "output_type": "stream",
     "text": [
      "Test loss: 0.7987256050109863\n",
      "Test accuracy: 0.0\n"
     ]
    }
   ],
   "source": [
    "score = model.evaluate(img, y_1, verbose=0)\n",
    "#score = model.evaluate(img, y_1, verbose=0)\n",
    "# 輸出結果\n",
    "print('Test loss:', score[0])\n",
    "print('Test accuracy:', score[1])"
   ]
  },
  {
   "cell_type": "code",
   "execution_count": null,
   "metadata": {},
   "outputs": [],
   "source": []
  }
 ],
 "metadata": {
  "kernelspec": {
   "display_name": "Python 3",
   "language": "python",
   "name": "python3"
  },
  "language_info": {
   "codemirror_mode": {
    "name": "ipython",
    "version": 3
   },
   "file_extension": ".py",
   "mimetype": "text/x-python",
   "name": "python",
   "nbconvert_exporter": "python",
   "pygments_lexer": "ipython3",
   "version": "3.6.8"
  },
  "toc": {
   "base_numbering": 1,
   "nav_menu": {
    "height": "339px",
    "width": "194px"
   },
   "number_sections": true,
   "sideBar": true,
   "skip_h1_title": false,
   "title_cell": "Table of Contents",
   "title_sidebar": "Contents",
   "toc_cell": false,
   "toc_position": {
    "height": "381.333px",
    "left": "255px",
    "top": "110px",
    "width": "165px"
   },
   "toc_section_display": true,
   "toc_window_display": true
  }
 },
 "nbformat": 4,
 "nbformat_minor": 2
}
