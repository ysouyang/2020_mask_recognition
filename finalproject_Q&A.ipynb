{
 "cells": [
  {
   "attachments": {},
   "cell_type": "markdown",
   "metadata": {},
   "source": [
    "### 問題:我覺得你們可以把一些容易判斷搓的案例加入 像是用手遮住口鼻的 而不是直接刪除\n",
    "##### 在篩選資料的時候只有把明顯不是人像的資料刪除，有些照片像是側臉、部分東西遮擋到臉部的照片都有保留下來"
   ]
  },
  {
   "attachments": {},
   "cell_type": "markdown",
   "metadata": {},
   "source": [
    "### 問題:SPP-net的詳細解釋\n",
    "##### 代替最後一層的池化層和flatten，本來的作用是當CNN輸入的是一張任意大小的圖片，在最後一層使得任意大小的特徵圖都能夠轉換成固定大小的特徵向量，在我們這組的模型中嘗試用來避免overfitting。黑色圖片代表卷積之後的特徵圖，在不同的尺度下(模型使用的是4*4、2*2、1*1)，對圖片進行分割，對每個局部提取特徵也就是對每個小格子的做maxpooling，將這些特徵整合成一個最終的特徵向量，最後會輸出(16+4+1)x256=5376個特徵向量。\n",
    "* 參考網址 (https://kknews.cc/zh-tw/code/ggl5gly.html)"
   ]
  }
 ],
 "metadata": {
  "kernelspec": {
   "display_name": "Python 3",
   "language": "python",
   "name": "python3"
  },
  "language_info": {
   "codemirror_mode": {
    "name": "ipython",
    "version": 3
   },
   "file_extension": ".py",
   "mimetype": "text/x-python",
   "name": "python",
   "nbconvert_exporter": "python",
   "pygments_lexer": "ipython3",
   "version": "3.6.8"
  },
  "toc": {
   "base_numbering": 1,
   "nav_menu": {},
   "number_sections": true,
   "sideBar": true,
   "skip_h1_title": false,
   "title_cell": "Table of Contents",
   "title_sidebar": "Contents",
   "toc_cell": false,
   "toc_position": {},
   "toc_section_display": true,
   "toc_window_display": false
  }
 },
 "nbformat": 4,
 "nbformat_minor": 2
}
